{
  "nbformat": 4,
  "nbformat_minor": 0,
  "metadata": {
    "colab": {
      "provenance": []
    },
    "kernelspec": {
      "name": "python3",
      "display_name": "Python 3"
    },
    "language_info": {
      "name": "python"
    }
  },
  "cells": [
    {
      "cell_type": "code",
      "source": [
        "%pip install datasets"
      ],
      "metadata": {
        "id": "eB5F_4SGV_si"
      },
      "execution_count": null,
      "outputs": []
    },
    {
      "cell_type": "code",
      "source": [
        "import csv\n",
        "import os\n",
        "import matplotlib.pyplot as plt\n",
        "from datasets import Dataset\n",
        "def dataset_generation(csv_file,image_folder):\n",
        "  images=[]\n",
        "  captions=[]\n",
        "  Dict = {}\n",
        "  for filename in os.listdir(image_folder):\n",
        "    if filename != \".config\":\n",
        "      with open(csv_file, 'r') as csvfile:\n",
        "          datareader = csv.reader(csvfile)\n",
        "          for row in datareader:\n",
        "            if(row[0]==filename):\n",
        "              image_path = os.path.join(image_folder, filename)\n",
        "              image = plt.imread(image_path)\n",
        "              images.append(image)\n",
        "              captions.append(row[1])\n",
        "  Dict['image'] = images\n",
        "  Dict['text'] = captions\n",
        "  dataset = Dataset.from_dict(Dict)\n",
        "  return dataset"
      ],
      "metadata": {
        "id": "K9IUdVm3OrSv"
      },
      "execution_count": null,
      "outputs": []
    },
    {
      "cell_type": "code",
      "source": [
        "dataset_generation(\"caption_dataset.csv\",\"/content/drive/MyDrive/LLM final project/augmented images\")"
      ],
      "metadata": {
        "colab": {
          "base_uri": "https://localhost:8080/"
        },
        "id": "6qaac0C2QHU1",
        "outputId": "387afebb-4dfe-4cd9-ba22-c9db571c00f9"
      },
      "execution_count": null,
      "outputs": [
        {
          "output_type": "execute_result",
          "data": {
            "text/plain": [
              "Dataset({\n",
              "    features: ['image', 'text'],\n",
              "    num_rows: 62\n",
              "})"
            ]
          },
          "metadata": {},
          "execution_count": 18
        }
      ]
    },
    {
      "cell_type": "code",
      "source": [],
      "metadata": {
        "id": "h49MINA3W7u2"
      },
      "execution_count": null,
      "outputs": []
    }
  ]
}