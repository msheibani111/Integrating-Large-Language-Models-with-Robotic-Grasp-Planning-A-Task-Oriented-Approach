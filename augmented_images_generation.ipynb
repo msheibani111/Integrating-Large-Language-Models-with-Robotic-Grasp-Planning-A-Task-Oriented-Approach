{
  "cells": [
    {
      "cell_type": "markdown",
      "metadata": {
        "id": "svRy4VUDiFtU"
      },
      "source": [
        "# Setup"
      ]
    },
    {
      "cell_type": "code",
      "execution_count": null,
      "metadata": {
        "colab": {
          "base_uri": "https://localhost:8080/"
        },
        "id": "B0zd5W2k2d_I",
        "outputId": "44169b92-6965-426b-fd23-e5f45887f5b1"
      },
      "outputs": [
        {
          "name": "stdout",
          "output_type": "stream",
          "text": [
            "Drive already mounted at /content/drive; to attempt to forcibly remount, call drive.mount(\"/content/drive\", force_remount=True).\n"
          ]
        }
      ],
      "source": [
        "from google.colab import drive\n",
        "drive.mount('/content/drive')"
      ]
    },
    {
      "cell_type": "code",
      "execution_count": null,
      "metadata": {
        "colab": {
          "base_uri": "https://localhost:8080/"
        },
        "id": "lT9W_F8VpNT6",
        "outputId": "2ddba0a3-4eb8-4161-9348-2a6b73b8275b"
      },
      "outputs": [
        {
          "name": "stdout",
          "output_type": "stream",
          "text": [
            "Ultralytics YOLOv8.2.41 🚀 Python-3.10.12 torch-2.3.0+cu121 CUDA:0 (Tesla T4, 15102MiB)\n",
            "Setup complete ✅ (2 CPUs, 12.7 GB RAM, 32.6/78.2 GB disk)\n",
            "HOME: /content\n",
            "  Preparing metadata (setup.py) ... \u001b[?25l\u001b[?25hdone\n",
            "/content/weights/sam_vit_h_4b8939.pth ; exist: True\n"
          ]
        }
      ],
      "source": [
        "!nvidia-smi\n",
        "%pip install ultralytics\n",
        "import ultralytics\n",
        "ultralytics.checks()\n",
        "import os\n",
        "HOME = os.getcwd()\n",
        "print(\"HOME:\", HOME)\n",
        "%pip install -q 'git+https://github.com/facebookresearch/segment-anything.git'\n",
        "%pip install -q jupyter_bbox_widget roboflow dataclasses-json supervision\n",
        "!mkdir -p {HOME}/weights\n",
        "!wget -q https://dl.fbaipublicfiles.com/segment_anything/sam_vit_h_4b8939.pth -P {HOME}/weights\n",
        "CHECKPOINT_PATH = os.path.join(HOME, \"weights\", \"sam_vit_h_4b8939.pth\")\n",
        "print(CHECKPOINT_PATH, \"; exist:\", os.path.isfile(CHECKPOINT_PATH))\n",
        "import torch\n",
        "DEVICE = torch.device('cuda:0' if torch.cuda.is_available() else 'cpu')\n",
        "MODEL_TYPE = \"vit_h\""
      ]
    },
    {
      "cell_type": "markdown",
      "metadata": {
        "id": "LeNE4CxoqDjN"
      },
      "source": [
        "# Imports"
      ]
    },
    {
      "cell_type": "code",
      "execution_count": null,
      "metadata": {
        "id": "bVh8YxEIqGCe"
      },
      "outputs": [],
      "source": [
        "from segment_anything import sam_model_registry, SamAutomaticMaskGenerator, SamPredictor\n",
        "from ultralytics import YOLO\n",
        "import numpy as np"
      ]
    },
    {
      "cell_type": "markdown",
      "metadata": {
        "id": "Io96E80TpJDR"
      },
      "source": [
        "#YOLOv8 bounding box extraction"
      ]
    },
    {
      "cell_type": "code",
      "execution_count": null,
      "metadata": {
        "id": "1F90Gq8Vjols"
      },
      "outputs": [],
      "source": [
        "IMAGE_PATH ='/content/drive/MyDrive/image dataset/wine glass_from_front_0.png'\n",
        "desired_label=[\"remote\",\"bottle\",\"cup\",\"bowl\",\"vase\",\"scissors\",\"tooth brush\",\"wine glass\",\"baseball bat\"]"
      ]
    },
    {
      "cell_type": "code",
      "execution_count": null,
      "metadata": {
        "id": "OYXZhYaFkW4R"
      },
      "outputs": [],
      "source": [
        "def process_image(IMAGE_PATH,desired_label):\n",
        "  model = YOLO(\"yolov8n.pt\")\n",
        "  results = model([IMAGE_PATH])\n",
        "  for result in results:\n",
        "    boxes = result.boxes\n",
        "    for i in range(boxes.shape[0]):\n",
        "      if (model.names[int(boxes.cls[i].item())] in desired_label):\n",
        "        bounding_box=np.array([(boxes.xyxy[i].cpu().numpy()[0]),\n",
        "                      (boxes.xyxy[i].cpu().numpy()[1]),\n",
        "                      (boxes.xyxy[i].cpu().numpy()[2]),\n",
        "                      (boxes.xyxy[i].cpu().numpy()[3])])\n",
        "        return bounding_box\n"
      ]
    },
    {
      "cell_type": "code",
      "execution_count": null,
      "metadata": {
        "colab": {
          "base_uri": "https://localhost:8080/"
        },
        "id": "j94dG4Bi2pQN",
        "outputId": "6c3f8b3d-3e9d-4547-8039-cc2a03c737a4"
      },
      "outputs": [
        {
          "name": "stdout",
          "output_type": "stream",
          "text": [
            "\n",
            "0: 640x640 1 wine glass, 9.9ms\n",
            "Speed: 3.4ms preprocess, 9.9ms inference, 1.7ms postprocess per image at shape (1, 3, 640, 640)\n",
            "wine glass\n"
          ]
        }
      ],
      "source": [
        "bbox=process_image(IMAGE_PATH,desired_label)"
      ]
    },
    {
      "cell_type": "code",
      "execution_count": null,
      "metadata": {
        "colab": {
          "base_uri": "https://localhost:8080/"
        },
        "id": "FHwSVdD73gEp",
        "outputId": "21a40b8e-ecf2-44f5-d7f0-a97827007340"
      },
      "outputs": [
        {
          "data": {
            "text/plain": [
              "array([     275.18,      51.227,      739.29,       992.5], dtype=float32)"
            ]
          },
          "execution_count": 109,
          "metadata": {},
          "output_type": "execute_result"
        }
      ],
      "source": [
        "bbox"
      ]
    },
    {
      "cell_type": "markdown",
      "metadata": {
        "id": "Wrca8s6L4Abz"
      },
      "source": [
        "#SAM segmentation"
      ]
    },
    {
      "cell_type": "code",
      "execution_count": null,
      "metadata": {
        "id": "JtZ0EICCjcYb"
      },
      "outputs": [],
      "source": [
        "sam = sam_model_registry[MODEL_TYPE](checkpoint=CHECKPOINT_PATH).to(device=DEVICE)"
      ]
    },
    {
      "cell_type": "code",
      "execution_count": null,
      "metadata": {
        "id": "5CC2OoDVjfQz"
      },
      "outputs": [],
      "source": [
        "mask_generator = SamAutomaticMaskGenerator(sam)"
      ]
    },
    {
      "cell_type": "code",
      "execution_count": null,
      "metadata": {
        "id": "6ew4BvCM6y4h"
      },
      "outputs": [],
      "source": [
        "mask_predictor = SamPredictor(sam)"
      ]
    },
    {
      "cell_type": "code",
      "execution_count": null,
      "metadata": {
        "id": "OmKEioXn4Cj8"
      },
      "outputs": [],
      "source": [
        "import cv2\n",
        "import numpy as np\n",
        "import supervision as sv"
      ]
    },
    {
      "cell_type": "code",
      "execution_count": null,
      "metadata": {
        "id": "FTwaE0yluH8-"
      },
      "outputs": [],
      "source": [
        "image_bgr = cv2.imread(IMAGE_PATH)\n",
        "image_rgb = cv2.cvtColor(image_bgr, cv2.COLOR_BGR2RGB)\n",
        "def sam_segment(bbox,image_rgb):\n",
        "  mask_predictor.set_image(image_rgb)\n",
        "\n",
        "  masks, scores, logits = mask_predictor.predict(\n",
        "      box=bbox,\n",
        "      multimask_output=False\n",
        "  )\n",
        "  detections = sv.Detections(\n",
        "    xyxy=sv.mask_to_xyxy(masks=masks),\n",
        "    mask=masks\n",
        "  )\n",
        "  box_annotator = sv.BoxAnnotator(color=sv.Color.red())\n",
        "  mask_annotator = sv.MaskAnnotator(color=sv.Color.red(), color_lookup=sv.ColorLookup.INDEX)\n",
        "\n",
        "  detections = sv.Detections(\n",
        "      xyxy=sv.mask_to_xyxy(masks=masks),\n",
        "      mask=masks\n",
        "  )\n",
        "  detections = detections[detections.area == np.max(detections.area)]\n",
        "\n",
        "  source_image = box_annotator.annotate(scene=image_bgr.copy(), detections=detections, skip_label=True)\n",
        "  segmented_image = mask_annotator.annotate(scene=image_bgr.copy(), detections=detections)\n",
        "  return detections"
      ]
    },
    {
      "cell_type": "code",
      "execution_count": null,
      "metadata": {
        "colab": {
          "base_uri": "https://localhost:8080/"
        },
        "id": "Ej_r6OcUAOcx",
        "outputId": "ff9fcec8-bd40-4813-f86e-833139776443"
      },
      "outputs": [
        {
          "name": "stderr",
          "output_type": "stream",
          "text": [
            "SupervisionWarnings: red is deprecated: `Color.red()` is deprecated and will be removed in `supervision-0.22.0`. Use `Color.RED` instead.\n",
            "SupervisionWarnings: red is deprecated: `Color.red()` is deprecated and will be removed in `supervision-0.22.0`. Use `Color.RED` instead.\n",
            "SupervisionWarnings: annotate is deprecated: `BoxAnnotator` is deprecated and will be removed in `supervision-0.22.0`. Use `BoundingBoxAnnotator` and `LabelAnnotator` instead\n"
          ]
        }
      ],
      "source": [
        "detections=sam_segment(bbox,image_rgb)"
      ]
    },
    {
      "cell_type": "code",
      "execution_count": null,
      "metadata": {
        "id": "o8ZOmPH58dlP"
      },
      "outputs": [],
      "source": [
        "import cv2 as cv\n",
        "import random\n",
        "from math import atan2, cos, sin, sqrt, pi , tan , radians\n",
        "from shapely.geometry import LineString,Polygon\n",
        "from google.colab.patches import cv2_imshow\n",
        "def calculate_angle_and_coordinates(ann,image,no_of_objects,bbox):\n",
        "      bw=ann.mask[0].astype(int)\n",
        "      bw = np.array(bw, np.uint8)\n",
        "      contours, _ = cv.findContours(bw, cv.RETR_LIST, cv.CHAIN_APPROX_NONE)\n",
        "      area_max=0\n",
        "      for k, c in enumerate(contours):\n",
        "          area = cv.contourArea(c)\n",
        "          if area>area_max:\n",
        "            area_max=area\n",
        "            c_max=c\n",
        "      i=random.randint(1,c_max.shape[0])\n",
        "      j=random.randint(1,c_max.shape[0])\n",
        "      cv.circle(image,(int(c_max[i][0][0]),int(c_max[i][0][1])),20,(0,255,0),-1)\n",
        "      cv.circle(image,(int(c_max[j][0][0]),int(c_max[j][0][1])),20,(0,255,0),-1)\n",
        "      cv2_imshow(image)"
      ]
    }
  ],
  "metadata": {
    "accelerator": "GPU",
    "colab": {
      "gpuType": "T4",
      "provenance": []
    },
    "kernelspec": {
      "display_name": "Python 3",
      "name": "python3"
    },
    "language_info": {
      "name": "python"
    }
  },
  "nbformat": 4,
  "nbformat_minor": 0
}
