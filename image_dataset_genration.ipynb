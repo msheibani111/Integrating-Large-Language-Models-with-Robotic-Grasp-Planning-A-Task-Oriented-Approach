{
  "nbformat": 4,
  "nbformat_minor": 0,
  "metadata": {
    "colab": {
      "provenance": []
    },
    "kernelspec": {
      "name": "python3",
      "display_name": "Python 3"
    },
    "language_info": {
      "name": "python"
    }
  },
  "cells": [
    {
      "cell_type": "code",
      "execution_count": null,
      "metadata": {
        "colab": {
          "base_uri": "https://localhost:8080/"
        },
        "id": "T3-yODVzo4zZ",
        "outputId": "47b87408-2abf-4b21-f21d-35723f40ff64"
      },
      "outputs": [
        {
          "output_type": "stream",
          "name": "stdout",
          "text": [
            "Collecting openai\n",
            "  Downloading openai-1.35.3-py3-none-any.whl (327 kB)\n",
            "\u001b[2K     \u001b[90m━━━━━━━━━━━━━━━━━━━━━━━━━━━━━━━━━━━━━━━━\u001b[0m \u001b[32m327.4/327.4 kB\u001b[0m \u001b[31m1.7 MB/s\u001b[0m eta \u001b[36m0:00:00\u001b[0m\n",
            "\u001b[?25hRequirement already satisfied: anyio<5,>=3.5.0 in /usr/local/lib/python3.10/dist-packages (from openai) (3.7.1)\n",
            "Requirement already satisfied: distro<2,>=1.7.0 in /usr/lib/python3/dist-packages (from openai) (1.7.0)\n",
            "Collecting httpx<1,>=0.23.0 (from openai)\n",
            "  Downloading httpx-0.27.0-py3-none-any.whl (75 kB)\n",
            "\u001b[2K     \u001b[90m━━━━━━━━━━━━━━━━━━━━━━━━━━━━━━━━━━━━━━━━\u001b[0m \u001b[32m75.6/75.6 kB\u001b[0m \u001b[31m3.3 MB/s\u001b[0m eta \u001b[36m0:00:00\u001b[0m\n",
            "\u001b[?25hRequirement already satisfied: pydantic<3,>=1.9.0 in /usr/local/lib/python3.10/dist-packages (from openai) (2.7.4)\n",
            "Requirement already satisfied: sniffio in /usr/local/lib/python3.10/dist-packages (from openai) (1.3.1)\n",
            "Requirement already satisfied: tqdm>4 in /usr/local/lib/python3.10/dist-packages (from openai) (4.66.4)\n",
            "Requirement already satisfied: typing-extensions<5,>=4.7 in /usr/local/lib/python3.10/dist-packages (from openai) (4.12.2)\n",
            "Requirement already satisfied: idna>=2.8 in /usr/local/lib/python3.10/dist-packages (from anyio<5,>=3.5.0->openai) (3.7)\n",
            "Requirement already satisfied: exceptiongroup in /usr/local/lib/python3.10/dist-packages (from anyio<5,>=3.5.0->openai) (1.2.1)\n",
            "Requirement already satisfied: certifi in /usr/local/lib/python3.10/dist-packages (from httpx<1,>=0.23.0->openai) (2024.6.2)\n",
            "Collecting httpcore==1.* (from httpx<1,>=0.23.0->openai)\n",
            "  Downloading httpcore-1.0.5-py3-none-any.whl (77 kB)\n",
            "\u001b[2K     \u001b[90m━━━━━━━━━━━━━━━━━━━━━━━━━━━━━━━━━━━━━━━━\u001b[0m \u001b[32m77.9/77.9 kB\u001b[0m \u001b[31m4.6 MB/s\u001b[0m eta \u001b[36m0:00:00\u001b[0m\n",
            "\u001b[?25hCollecting h11<0.15,>=0.13 (from httpcore==1.*->httpx<1,>=0.23.0->openai)\n",
            "  Downloading h11-0.14.0-py3-none-any.whl (58 kB)\n",
            "\u001b[2K     \u001b[90m━━━━━━━━━━━━━━━━━━━━━━━━━━━━━━━━━━━━━━━━\u001b[0m \u001b[32m58.3/58.3 kB\u001b[0m \u001b[31m2.4 MB/s\u001b[0m eta \u001b[36m0:00:00\u001b[0m\n",
            "\u001b[?25hRequirement already satisfied: annotated-types>=0.4.0 in /usr/local/lib/python3.10/dist-packages (from pydantic<3,>=1.9.0->openai) (0.7.0)\n",
            "Requirement already satisfied: pydantic-core==2.18.4 in /usr/local/lib/python3.10/dist-packages (from pydantic<3,>=1.9.0->openai) (2.18.4)\n",
            "Installing collected packages: h11, httpcore, httpx, openai\n",
            "Successfully installed h11-0.14.0 httpcore-1.0.5 httpx-0.27.0 openai-1.35.3\n"
          ]
        }
      ],
      "source": [
        "!pip install openai"
      ]
    },
    {
      "cell_type": "code",
      "source": [
        "import openai\n",
        "import requests\n",
        "from PIL import Image\n",
        "from io import BytesIO\n",
        "import base64\n",
        "\n",
        "# Set your OpenAI API key\n",
        "OPENAI_API_KEY= ''\n",
        "\n",
        "# Define the prompt for the image generation\n",
        "prompt = \"A real mug from the from front angle\"\n",
        "\n",
        "# Generate an image using the OpenAI API\n",
        "try:\n",
        "  client = openai.OpenAI(\n",
        "      api_key = OPENAI_API_KEY\n",
        "  )\n",
        "  response = client.images.generate(\n",
        "    model=\"dall-e-3\",\n",
        "    prompt=prompt,\n",
        "    n=1,\n",
        "    size=\"1024x1024\"\n",
        "  )\n",
        "\n",
        "  image_url = response.data[0].url\n",
        "  print(image_url)\n",
        "  image_response = requests.get(image_url)\n",
        "  image = Image.open(BytesIO(image_response.content))\n",
        "\n",
        "  # Display the image\n",
        "  image.show()\n",
        "\n",
        "  # Save the image\n",
        "  image.save(\"generated_image.png\")\n",
        "  print(\"Image saved as generated_image.png\")\n",
        "except Exception as e:\n",
        "    print(f\"An error occurred: {e}\")\n",
        "\n"
      ],
      "metadata": {
        "colab": {
          "base_uri": "https://localhost:8080/"
        },
        "id": "tAef9-w_pOpw",
        "outputId": "c055a033-3254-4572-93fb-1d03182b245d"
      },
      "execution_count": null,
      "outputs": [
        {
          "output_type": "stream",
          "name": "stdout",
          "text": [
            "https://oaidalleapiprodscus.blob.core.windows.net/private/org-AARxUmm5k1H3qSam5KRAfUCQ/user-7yPq7MQaxTsf4OcKKMzDfMlw/img-BReaem4m0b5XIFO947Jhb68I.png?st=2024-06-24T05%3A14%3A54Z&se=2024-06-24T07%3A14%3A54Z&sp=r&sv=2023-11-03&sr=b&rscd=inline&rsct=image/png&skoid=6aaadede-4fb3-4698-a8f6-684d7786b067&sktid=a48cca56-e6da-484e-a814-9c849652bcb3&skt=2024-06-23T22%3A59%3A23Z&ske=2024-06-24T22%3A59%3A23Z&sks=b&skv=2023-11-03&sig=oZ%2BjeFK/cLBUzDdnGVv8PqySsln/DXA0LbSFMVvGfUg%3D\n",
            "Image saved as generated_image.png\n"
          ]
        }
      ]
    },
    {
      "cell_type": "code",
      "source": [
        "def generate_image_dataset(objects,Povs):\n",
        "\n",
        "  try:\n",
        "    client = openai.OpenAI(api_key = OPENAI_API_KEY)\n",
        "\n",
        "    for i in range(3):\n",
        "      for object in objects:\n",
        "        for pov in Povs:\n",
        "            prompt = f\"A real {object} from the {pov} angle\"\n",
        "            response = client.images.generate(\n",
        "              model=\"dall-e-3\",\n",
        "              prompt=prompt,\n",
        "              n=1,\n",
        "              size=\"1024x1024\"\n",
        "            )\n",
        "            image_url = response.data[0].url\n",
        "            image_response = requests.get(image_url)\n",
        "            image = Image.open(BytesIO(image_response.content))\n",
        "            # Save the image\n",
        "            image.save(f\"{object}_from_{pov}_{i}.png\")\n",
        "      print(\"first batch of images saved\")\n",
        "\n",
        "  except Exception as e:\n",
        "    print(f\"An error occurred: {e}\")\n",
        "\n",
        "\n",
        "objects = [\"remote\",\"bottle\",\"cup\",\"bowl\",\"vase\",\"scissors\",\"tooth brush\",\"wine glass\",\"baseball bat\"]\n",
        "Povs = [\"front\",\"above\",\"side\"]\n",
        "\n",
        "generate_image_dataset(objects,Povs)"
      ],
      "metadata": {
        "colab": {
          "base_uri": "https://localhost:8080/"
        },
        "id": "m6tACxbE4rR9",
        "outputId": "89789a61-2141-4d62-934c-3b9c60420275"
      },
      "execution_count": null,
      "outputs": [
        {
          "output_type": "stream",
          "name": "stdout",
          "text": [
            "first batch of images saved\n",
            "first batch of images saved\n",
            "first batch of images saved\n"
          ]
        }
      ]
    }
  ]
}